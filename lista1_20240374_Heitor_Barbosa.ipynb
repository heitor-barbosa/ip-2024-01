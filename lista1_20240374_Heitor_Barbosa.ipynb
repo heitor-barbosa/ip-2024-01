{
  "nbformat": 4,
  "nbformat_minor": 0,
  "metadata": {
    "colab": {
      "provenance": [],
      "authorship_tag": "ABX9TyOBcAw7QoHE5DfBKvE5TK+r",
      "include_colab_link": true
    },
    "kernelspec": {
      "name": "python3",
      "display_name": "Python 3"
    },
    "language_info": {
      "name": "python"
    }
  },
  "cells": [
    {
      "cell_type": "markdown",
      "metadata": {
        "id": "view-in-github",
        "colab_type": "text"
      },
      "source": [
        "<a href=\"https://colab.research.google.com/github/heitor-barbosa/ip-2024-01/blob/main/lista1_20240374_Heitor_Barbosa.ipynb\" target=\"_parent\"><img src=\"https://colab.research.google.com/assets/colab-badge.svg\" alt=\"Open In Colab\"/></a>"
      ]
    },
    {
      "cell_type": "code",
      "execution_count": null,
      "metadata": {
        "id": "-_v-plgfIgxU"
      },
      "outputs": [],
      "source": []
    },
    {
      "cell_type": "markdown",
      "source": [
        "Questão 1:\n",
        "\n",
        "1. nota1, nota2, nota3, x\n",
        "2. ler nota1, nota2, nota3\n",
        "3. x = (nota1 + nota2 + nota3)/3\n",
        "4. escreva \"MÉDIA =\" x\n",
        "5. se x >= 6, então escreva APROVADO;\n",
        "   se não, então escreva REPROVADO;\n",
        "\n",
        "\n"
      ],
      "metadata": {
        "id": "ZOOz_F44Ijch"
      }
    },
    {
      "cell_type": "markdown",
      "source": [
        "Questão 2:\n",
        "\n",
        "0. variáveis n, qtd, pP, pG, pA, pC, renda;\n",
        "1. ler numero de casos teste (n)\n",
        "2. ler a quantidade de pessoas (qtd), a percentagem de ingressos popular (pP), percentagem de ingressos geral (pG), percentagem de ingressos arquibancada (pA) e percentagem de ingressos cadeiras (pC)\n",
        "3. para cada jogo teste, calcule a renda:\n",
        "renda = (qtd*pP*1)+(qtd*pG*5)+(qtd*pA*10)+(qtd*pC*20)\n",
        "4. imprima a renda de cada jogo"
      ],
      "metadata": {
        "id": "tIVVwgaFMD17"
      }
    },
    {
      "cell_type": "markdown",
      "source": [
        "Questão 3:\n",
        "1. n1, n2, n3, concatenacao\n",
        "2. ler n1, n2, n3\n",
        "3. se n1 ou n2 ou n3 for > 9, então escreva: DIGITO INVALIDO e ;\n",
        "   se não, então calcule a concatenacao;\n",
        "4. concatenacao = n1n2n3\n",
        "5. imprima: concatencao, concatenacao*concatencao"
      ],
      "metadata": {
        "id": "Gj91VZxYOILm"
      }
    },
    {
      "cell_type": "markdown",
      "source": [
        "Questão 4:\n",
        "1. variáveis SALARIO, KW, CUSTOKW, VALOR, DESCONTO;\n",
        "2. ler SALARIO e KW\n",
        "3. calcule CUSTOKW = SALARIO * 0.7 / 100\n",
        "4. calcule VALOR = KW * CUSTOKW\n",
        "5. calcule DESCONTO = VALOR * 0.90\n",
        "6. imprima CUSTOKW, VALOR, DESCONTO;"
      ],
      "metadata": {
        "id": "RK4B4kkITnGh"
      }
    },
    {
      "cell_type": "markdown",
      "source": [
        "Questão 5:\n",
        "1. variáveis CONTA, M3, TIPO, VALOR;\n",
        "2. ler CONTA, M3, TIPO;\n",
        "3. se TIPO == R, então faça:\n",
        "calcule VALOR = 0.05 * M3 + 5\n",
        "4. se TIPO == C, então faça:\n",
        "se M3 <= 80, VALOR = 500;\n",
        "se M3 > 80, VALOR = 500 + (M3-80)*0.25;\n",
        "5. 4. se TIPO == I, então faça:\n",
        "se M3 <= 100, VALOR = 800;\n",
        "se M3 > 100, VALOR = 800 + (M3-100)*0.04;\n",
        "6. imprima: CONTA = CONTA;\n",
        "VALOR DA CONTA = VALOR;"
      ],
      "metadata": {
        "id": "GfziKtXeHq5a"
      }
    },
    {
      "cell_type": "markdown",
      "source": [
        "Questão 6:\n",
        "1. variável n (quantidade de temperaturas °F)\n",
        "2. ler n\n",
        "3. para cada temperatura fahrenheit, faça:\n",
        "variável F;\n",
        "leia a variável F;\n",
        "converta para C pela fórmula: C=(F-32)*5/9\n",
        "imprima C"
      ],
      "metadata": {
        "id": "uEZQzVfcU35P"
      }
    },
    {
      "cell_type": "markdown",
      "source": [
        "Questão 7:\n",
        "1. variáveis F, P, C, M;\n",
        "2. ler F e P\n",
        "3. calcule C = (5*F - 160)/9\n",
        "4. calcule M = P * 25.4\n",
        "5. imprima: O VALOR EM CELSIUS = C;  A QUANTIDADE DE CHUVA E = M;"
      ],
      "metadata": {
        "id": "AL9Lv9x4BRub"
      }
    },
    {
      "cell_type": "markdown",
      "source": [
        "Questão 8:\n",
        "1. variáveis R, H, AL, AB, CUSTO;\n",
        "2. ler R e H\n",
        "3. calcule AB = 3.14159 * R * R\n",
        "4. calcule AL = 2 * 3.1415 * R * H\n",
        "5. calcule CUSTO = (2 * AB + AL)* 100\n",
        "6. imprima: O VALOR DO CUSTO E = CUSTO"
      ],
      "metadata": {
        "id": "MRICzYlKC-9S"
      }
    },
    {
      "cell_type": "markdown",
      "source": [
        "Questão 9:\n",
        "1. variáveis A, B, C, DELTA;\n",
        "2. ler A, B, C\n",
        "3. calcular DELTA = B*B - 4*A*C\n",
        "4. imprima:| O VALOR DE DELTA E = DELTA"
      ],
      "metadata": {
        "id": "oEcxhBl8c_9x"
      }
    },
    {
      "cell_type": "markdown",
      "source": [
        "Questão 10\n",
        "1. variáveis a, b, c, d, DET\n",
        "2. ler a, b, c, d\n",
        "3. calcular DET = a*d - b*c\n",
        "4. imprima: O VALOR DO DETERMINANTE E = DET"
      ],
      "metadata": {
        "id": "ghETYmSJcFyw"
      }
    },
    {
      "cell_type": "markdown",
      "source": [
        "Questão 11:\n",
        "1. variável n\n",
        "2. ler n\n",
        "3. se o resto da divisão de n por 3 for 0 e o resto da divisão de n por 5 for 0, imprima: é divisível\n",
        "4. se não, imprima: não é divisível"
      ],
      "metadata": {
        "id": "xKKTwi2A_Vs9"
      }
    },
    {
      "cell_type": "markdown",
      "source": [
        "Questão 12:\n",
        "1. variáveis n, custo;\n",
        "2. ler variável n\n",
        "3. custo = 10*(n/3) + 5*(n%3)\n",
        "4. imprima o custo"
      ],
      "metadata": {
        "id": "BOug0W_DAseK"
      }
    },
    {
      "cell_type": "markdown",
      "source": [
        "Questão 13:\n",
        "1. variável NOTA\n",
        "2. ler NOTA\n",
        "3. se NOTA >= 9, então imprima: \"NOTA = NOTA; CONCEITO = A;\n",
        "4. se NOTA < 9 e NOTA >= 7,5, então imprima: \"NOTA = NOTA; CONCEITO = B;\n",
        "5. se NOTA < 7,5 e NOTA >= 6, então imprima: \"NOTA = NOTA; CONCEITO = C;\n",
        "6. se NOTA < 6 e NOTA >= 0, então imprima: \"NOTA = NOTA; CONCEITO = D;\n"
      ],
      "metadata": {
        "id": "P3Q0TjIud2qj"
      }
    },
    {
      "cell_type": "markdown",
      "source": [
        "Questão 14:\n",
        "1. variáveis V, AB, H1, A;\n",
        "2. ler H1, A\n",
        "3. calcular AB = 3*(A*A)*√3/2\n",
        "4. calcular V = AB*H1/3\n",
        "5. imprima: O VOLUME DA PIRAMIDE E = V\n"
      ],
      "metadata": {
        "id": "wPTupih5hVWJ"
      }
    },
    {
      "cell_type": "markdown",
      "source": [
        "Questão 15:\n",
        "1. variável N\n",
        "2. se N for par e 5 < N < 2000, então faça:\n",
        "imprima: N^2 = N*N; faça N-2;\n",
        "repita até que N = 2;\n",
        "3. se N for ímpar e 5 < N < 2000, então faça:\n",
        "N-1; imprima: N^2 = N*N; faça N-1;\n",
        "repita até que N = 2"
      ],
      "metadata": {
        "id": "PsbbcgxekbbZ"
      }
    },
    {
      "cell_type": "markdown",
      "source": [
        "Questão 16:\n",
        "1. variável X\n",
        "2. ler X\n",
        "3. se X <= 300, então faça:\n",
        "X * 1,5; imprima: SALARIO COM REAJUSTE = X;\n",
        "4. se X > 300, então faça:\n",
        "X * 1,3; imprima: SALARIO COM REAJUSTE = X;"
      ],
      "metadata": {
        "id": "f4qgryvRoOo2"
      }
    },
    {
      "cell_type": "markdown",
      "source": [
        "Questão 17:\n",
        "1. variáveis X, Y;\n",
        "2. ler X e Y\n",
        "3. se X for par, então faça:\n",
        "imprima X; faça X + 2;\n",
        "repita Y-1 vezes;\n",
        "4. se X for ímpar, imprima: O PRIMEIRO NUMERO NAO E PAR;\n"
      ],
      "metadata": {
        "id": "BgbNaZh7rovr"
      }
    },
    {
      "cell_type": "markdown",
      "source": [
        "Questão 18:\n",
        "1. variáveis A1, R, N, SOMA, x = 1;\n",
        "2. ler A1, R, N;\n",
        "3. faça: SOMA = A1 + (x-1)*R; x + 1;\n",
        "até que x = n\n",
        "4. imprima SOMA\n"
      ],
      "metadata": {
        "id": "UYgxhHe2wxX9"
      }
    },
    {
      "cell_type": "markdown",
      "source": [
        "Questão 19:\n",
        "1. variáveis N, SOMA = 0, x = 1;\n",
        "2. ler N\n",
        "3. se N > 1, então faça:\n",
        "SOMA + 1/x; x + 1;\n",
        "até que x = N\n",
        "4. imprima SOMA\n"
      ],
      "metadata": {
        "id": "yXxJBKB1zc7x"
      }
    },
    {
      "cell_type": "markdown",
      "source": [
        "Questão 20:\n",
        "1. variáveis HR, MIN, SEG, TOTAL;\n",
        "2. ler HR, MIN, SEG;\n",
        "3. calcule TOTAL = HR*3600 + MIN*60 + SEG\n",
        "4. imprima: O TEMPO EM SEGUNDOS E = TOTAL"
      ],
      "metadata": {
        "id": "41O26ayx1FOk"
      }
    }
  ]
}