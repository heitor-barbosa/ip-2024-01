{
  "nbformat": 4,
  "nbformat_minor": 0,
  "metadata": {
    "colab": {
      "provenance": []
    },
    "kernelspec": {
      "name": "python3",
      "display_name": "Python 3"
    },
    "language_info": {
      "name": "python"
    }
  },
  "cells": [
    {
      "cell_type": "markdown",
      "source": [
        "Questão 1-\n",
        "\n",
        "package main\n",
        "\n",
        "import \"fmt\"\n",
        "\n",
        "func main() {\n",
        "    var nota1, nota2, nota3, x float64\n",
        "\n",
        "    fmt.Println(\"Digite a primeira nota:\")\n",
        "    fmt.Scanln(&nota1)\n",
        "    fmt.Println(\"Digite a segunda nota:\")\n",
        "    fmt.Scanln(&nota2)\n",
        "    fmt.Println(\"Digite a terceira nota:\")\n",
        "    fmt.Scanln(&nota3)\n",
        "\n",
        "    x = (nota1 + nota2 + nota3) / 3\n",
        "\n",
        "    fmt.Println(\"MÉDIA =\", x)\n",
        "\n",
        "    if x >= 6 {\n",
        "        fmt.Println(\"APROVADO\")\n",
        "    } else {\n",
        "        fmt.Println(\"REPROVADO\")\n",
        "    }\n",
        "}"
      ],
      "metadata": {
        "id": "zNy5pHRthj6R"
      }
    },
    {
      "cell_type": "markdown",
      "source": [
        "Questão 2-\n",
        "\n",
        "package main\n",
        "\n",
        "import \"fmt\"\n",
        "\n",
        "func main() {\n",
        "    var n int\n",
        "    fmt.Println(\"Digite o número de casos de teste:\")\n",
        "    fmt.Scanln(&n)\n",
        "\n",
        "    for i := 0; i < n; i++ {\n",
        "        var qtd, pP, pG, pA, pC, renda float64\n",
        "\n",
        "        fmt.Println(\"Digite a quantidade de pessoas:\")\n",
        "        fmt.Scanln(&qtd)\n",
        "\n",
        "        fmt.Println(\"Digite a percentagem de ingressos popular:\")\n",
        "        fmt.Scanln(&pP)\n",
        "\n",
        "        fmt.Println(\"Digite a percentagem de ingressos geral:\")\n",
        "        fmt.Scanln(&pG)\n",
        "\n",
        "        fmt.Println(\"Digite a percentagem de ingressos arquibancada:\")\n",
        "        fmt.Scanln(&pA)\n",
        "\n",
        "        fmt.Println(\"Digite a percentagem de ingressos cadeiras:\")\n",
        "        fmt.Scanln(&pC)\n",
        "\n",
        "        renda = (qtd*pP*1/100) + (qtd*pG*5/100) + (qtd*pA*10/100) + (qtd*pC*20/100)\n",
        "        fmt.Println(\"Renda do jogo:\", renda)\n",
        "    }\n",
        "}"
      ],
      "metadata": {
        "id": "bB047xWehruJ"
      }
    },
    {
      "cell_type": "markdown",
      "source": [
        "Questão 3-\n",
        "\n",
        "package main\n",
        "\n",
        "import \"fmt\"\n",
        "\n",
        "func main() {\n",
        "    var n1, n2, n3 int\n",
        "\n",
        "    fmt.Println(\"Digite o primeiro número (centena):\")\n",
        "    fmt.Scanln(&n1)\n",
        "    fmt.Println(\"Digite o segundo número (dezena):\")\n",
        "    fmt.Scanln(&n2)\n",
        "    fmt.Println(\"Digite o terceiro número (unidade):\")\n",
        "    fmt.Scanln(&n3)\n",
        "\n",
        "    if n1 < 0 || n1 > 9 || n2 < 0 || n2 > 9 || n3 < 0 || n3 > 9 {\n",
        "        fmt.Println(\"DIGITO INVALIDO\")\n",
        "        return\n",
        "    }\n",
        "\n",
        "    resultado := n1*100 + n2*10 + n3\n",
        "    quadrado := resultado * resultado\n",
        "\n",
        "    fmt.Printf(\"%d, %d\\n\", resultado, quadrado)\n",
        "}"
      ],
      "metadata": {
        "id": "FKV0EJZCjIfO"
      }
    },
    {
      "cell_type": "markdown",
      "source": [
        "Questão 4-\n",
        "\n",
        "package main\n",
        "\n",
        "import \"fmt\"\n",
        "\n",
        "func main() {\n",
        "    var salario, kw, custoKW, valor, desconto float64\n",
        "\n",
        "    fmt.Println(\"Digite o salário:\")\n",
        "    fmt.Scanln(&salario)\n",
        "    fmt.Println(\"Digite a quantidade de kilowatts (KW):\")\n",
        "    fmt.Scanln(&kw)\n",
        "\n",
        "    custoKW = salario * 0.7 / 100\n",
        "    valor = kw * custoKW\n",
        "    desconto = valor * 0.90\n",
        "\n",
        "    fmt.Printf(\"CUSTOKW: R$%.2f\\n\", custoKW)\n",
        "    fmt.Printf(\"VALOR: R$%.2f\\n\", valor)\n",
        "    fmt.Printf(\"DESCONTO: R$%.2f\\n\", desconto)\n",
        "}"
      ],
      "metadata": {
        "id": "nmU8Orj4k2Ek"
      }
    },
    {
      "cell_type": "markdown",
      "source": [
        "Questão 5-\n",
        "\n",
        "package main\n",
        "\n",
        "import \"fmt\"\n",
        "\n",
        "func main() {\n",
        "    var CONTA, M3 int32\n",
        "    var TIPO byte\n",
        "    var VALOR float64\n",
        "\n",
        "    fmt.Println(\"Digite o número da conta:\")\n",
        "    fmt.Scanln(&CONTA)\n",
        "    fmt.Println(\"Digite o consumo de água em metros cúbicos (M3):\")\n",
        "    fmt.Scanln(&M3)\n",
        "    fmt.Println(\"Digite o tipo de cliente (R para Residencial, C para Comercial, I para Industrial):\")\n",
        "    fmt.Scanf(\"%c\", &TIPO)\n",
        "\n",
        "    if TIPO == 'R' {\n",
        "        VALOR = 0.05*float64(M3) + 5\n",
        "    } else if TIPO == 'C' {\n",
        "        if M3 <= 80 {\n",
        "            VALOR = 500\n",
        "        } else {\n",
        "            VALOR = 500 + float64(M3-80)*0.25\n",
        "        }\n",
        "    } else if TIPO == 'I' {\n",
        "        if M3 <= 100 {\n",
        "            VALOR = 800\n",
        "        } else {\n",
        "            VALOR = 800 + float64(M3-100)*0.04\n",
        "        }\n",
        "    }\n",
        "\n",
        "    fmt.Printf(\"CONTA = %d\\n\", CONTA)\n",
        "    fmt.Printf(\"VALOR DA CONTA = %.2f\\n\", VALOR)\n",
        "}"
      ],
      "metadata": {
        "id": "vAKmGfSDmGwM"
      }
    },
    {
      "cell_type": "markdown",
      "source": [
        "Questão 6-\n",
        "\n",
        "package main\n",
        "\n",
        "import \"fmt\"\n",
        "\n",
        "func main() {\n",
        "    var n int\n",
        "\n",
        "    fmt.Println(\"Digite a quantidade de temperaturas °F:\")\n",
        "    fmt.Scanln(&n)\n",
        "\n",
        "    for i := 0; i < n; i++ {\n",
        "        var F float64\n",
        "\n",
        "        fmt.Println(\"\\nDigite a temperatura em Fahrenheit:\")\n",
        "        fmt.Scanln(&F)\n",
        "\n",
        "        C := (F - 32) * 5 / 9\n",
        "\n",
        "        fmt.Printf(\"%.2f FAHRENHEIT EQUIVALE A %.2f CELSIUS\\n\", F, C)\n",
        "    }\n",
        "}"
      ],
      "metadata": {
        "id": "CtgqrM3unYpi"
      }
    },
    {
      "cell_type": "markdown",
      "source": [
        "Questão 7-\n",
        "\n",
        "package main\n",
        "\n",
        "import \"fmt\"\n",
        "\n",
        "func main() {\n",
        "    var F, P, C, M float64\n",
        "\n",
        "    fmt.Println(\"Digite a temperatura em Fahrenheit:\")\n",
        "    fmt.Scanln(&F)\n",
        "    fmt.Println(\"Digite a quantidade de chuva em polegadas:\")\n",
        "    fmt.Scanln(&P)\n",
        "\n",
        "    C = (5*F - 160) / 9\n",
        "    M = P * 25.4\n",
        "\n",
        "    fmt.Printf(\"O VALOR EM CELSIUS = %.2f\\n\", C)\n",
        "    fmt.Printf(\"A QUANTIDADE DE CHUVA E = %.2f\\n\", M)\n",
        "}"
      ],
      "metadata": {
        "id": "rKzNGjlln8cQ"
      }
    },
    {
      "cell_type": "markdown",
      "source": [
        "Questão 8-\n",
        "\n",
        "package main\n",
        "\n",
        "import \"fmt\"\n",
        "\n",
        "func main() {\n",
        "    var R, H, AL, AB, CUSTO float64\n",
        "\n",
        "    fmt.Println(\"Digite o raio (R) da lata:\")\n",
        "    fmt.Scanln(&R)\n",
        "    fmt.Println(\"Digite a altura (H) da lata:\")\n",
        "    fmt.Scanln(&H)\n",
        "\n",
        "    AB = 3.14159 * R * R\n",
        "    AL = 2 * 3.1415 * R * H\n",
        "    CUSTO = (2*AB + AL) * 100\n",
        "\n",
        "    fmt.Printf(\"O VALOR DO CUSTO E = %.2f\\n\", CUSTO)\n",
        "}"
      ],
      "metadata": {
        "id": "G7HyfoGWoXcg"
      }
    },
    {
      "cell_type": "markdown",
      "source": [
        "Questão 9-\n",
        "\n",
        "package main\n",
        "\n",
        "import \"fmt\"\n",
        "\n",
        "func main() {\n",
        "    var A, B, C, DELTA float64\n",
        "\n",
        "    fmt.Println(\"Digite o valor de A:\")\n",
        "    fmt.Scanln(&A)\n",
        "    fmt.Println(\"Digite o valor de B:\")\n",
        "    fmt.Scanln(&B)\n",
        "    fmt.Println(\"Digite o valor de C:\")\n",
        "    fmt.Scanln(&C)\n",
        "\n",
        "    DELTA = B*B - 4*A*C\n",
        "\n",
        "    fmt.Printf(\"O VALOR DE DELTA E = %.2f\\n\", DELTA)\n",
        "}"
      ],
      "metadata": {
        "id": "bsIRthEXo3M6"
      }
    },
    {
      "cell_type": "markdown",
      "source": [
        "Questão 10-\n",
        "\n",
        "package main\n",
        "\n",
        "import \"fmt\"\n",
        "\n",
        "func main() {\n",
        "    var a, b, c, d, DET float64\n",
        "\n",
        "    fmt.Println(\"Digite o valor de a:\")\n",
        "    fmt.Scanln(&a)\n",
        "    fmt.Println(\"Digite o valor de b:\")\n",
        "    fmt.Scanln(&b)\n",
        "    fmt.Println(\"Digite o valor de c:\")\n",
        "    fmt.Scanln(&c)\n",
        "    fmt.Println(\"Digite o valor de d:\")\n",
        "    fmt.Scanln(&d)\n",
        "\n",
        "    DET = a*d - b*c\n",
        "\n",
        "    fmt.Printf(\"O VALOR DO DETERMINANTE E = %.2f\\n\", DET)\n",
        "}"
      ],
      "metadata": {
        "id": "nLSvUoxJpPEu"
      }
    },
    {
      "cell_type": "markdown",
      "source": [
        "Questão 11-\n",
        "\n",
        "package main\n",
        "\n",
        "import \"fmt\"\n",
        "\n",
        "func main() {\n",
        "    var n int\n",
        "\n",
        "    fmt.Println(\"Digite um número:\")\n",
        "    fmt.Scanln(&n)\n",
        "\n",
        "    if n%3 == 0 && n%5 == 0 {\n",
        "        fmt.Println(\"O NUMERO E DIVISIVEL\")\n",
        "    } else {\n",
        "        fmt.Println(\"O NUMERO NAO E DIVISIVEL\")\n",
        "    }\n",
        "}"
      ],
      "metadata": {
        "id": "8nWYxUeIpolh"
      }
    },
    {
      "cell_type": "markdown",
      "source": [
        "Questão 12-\n",
        "\n",
        "package main\n",
        "\n",
        "import \"fmt\"\n",
        "\n",
        "func main() {\n",
        "    var n, custo int\n",
        "\n",
        "    fmt.Println(\"Digite o número de itens:\")\n",
        "    fmt.Scanln(&n)\n",
        "\n",
        "    custo = 10*(n/3) + 5*(n%3)\n",
        "\n",
        "    fmt.Println(\"O VALOR A PAGAR E:\", custo)\n",
        "}"
      ],
      "metadata": {
        "id": "iKEMdXPyp5Eu"
      }
    },
    {
      "cell_type": "markdown",
      "source": [
        "Questão 13-\n",
        "\n",
        "package main\n",
        "\n",
        "import \"fmt\"\n",
        "\n",
        "func main() {\n",
        "    var NOTA float64\n",
        "\n",
        "    fmt.Println(\"Digite a nota:\")\n",
        "    fmt.Scanln(&NOTA)\n",
        "\n",
        "    if NOTA >= 9 {\n",
        "        fmt.Printf(\"NOTA = %.2f; CONCEITO = A\\n\", NOTA)\n",
        "    } else if NOTA >= 7.5 {\n",
        "        fmt.Printf(\"NOTA = %.2f; CONCEITO = B\\n\", NOTA)\n",
        "    } else if NOTA >= 6 {\n",
        "        fmt.Printf(\"NOTA = %.2f; CONCEITO = C\\n\", NOTA)\n",
        "    } else if NOTA >= 0 {\n",
        "        fmt.Printf(\"NOTA = %.2f; CONCEITO = D\\n\", NOTA)\n",
        "    } else {\n",
        "        fmt.Println(\"Nota inválida\")\n",
        "    }\n",
        "}"
      ],
      "metadata": {
        "id": "nO9JC8-yqQZl"
      }
    },
    {
      "cell_type": "markdown",
      "source": [
        "Questão 14-\n",
        "\n",
        "package main\n",
        "\n",
        "import (\n",
        "\t\"fmt\"\n",
        "\t\"math\"\n",
        ")\n",
        "\n",
        "func main() {\n",
        "\tvar V, AB, H1, A float64\n",
        "\n",
        "\tfmt.Println(\"Digite a altura da pirâmide (H1):\")\n",
        "\tfmt.Scanln(&H1)\n",
        "\tfmt.Println(\"Digite o valor do lado do triângulo equilátero da base (A):\")\n",
        "\tfmt.Scanln(&A)\n",
        "\n",
        "\tAB = 3 * (A * A) * math.Sqrt(3) / 2\n",
        "\tV = AB * H1 / 3\n",
        "\n",
        "\tfmt.Printf(\"O VOLUME DA PIRAMIDE E = %.2f METROS CUBICOS\", V)\n",
        "}"
      ],
      "metadata": {
        "id": "fOE0tffGqmzL"
      }
    },
    {
      "cell_type": "markdown",
      "source": [
        "Questão 15-\n",
        "\n",
        "package main\n",
        "\n",
        "import \"fmt\"\n",
        "\n",
        "func main(){\n",
        "    \n",
        "    var n int\n",
        "    fmt.Scanln(&n)\n",
        "    \n",
        "    for i := 2; i<= n; i+=2 {\n",
        "        quadrado := i*i\n",
        "        fmt.Printf(\"%d² = %d\\n\", i, quadrado)\n",
        "    }\n",
        "}"
      ],
      "metadata": {
        "id": "yKPHchl9rGPw"
      }
    },
    {
      "cell_type": "markdown",
      "source": [
        "Questão 16-\n",
        "\n",
        "package main\n",
        "\n",
        "import \"fmt\"\n",
        "\n",
        "func main() {\n",
        "\tvar X float64\n",
        "\n",
        "\tfmt.Println(\"Digite o valor do salário:\")\n",
        "\tfmt.Scanln(&X)\n",
        "\n",
        "\tif X <= 300 {\n",
        "\t\tX *= 1.5\n",
        "\t\tfmt.Printf(\"SALARIO COM REAJUSTE = %.2f\\n\", X)\n",
        "\t} else {\n",
        "\t\tX *= 1.3\n",
        "\t\tfmt.Printf(\"SALARIO COM REAJUSTE = %.2f\\n\", X)\n",
        "\t}\n",
        "}"
      ],
      "metadata": {
        "id": "Q3FCkNt-r1-T"
      }
    },
    {
      "cell_type": "markdown",
      "source": [
        "Questão 17-\n",
        "\n",
        "package main\n",
        "\n",
        "import \"fmt\"\n",
        "\n",
        "func main() {\n",
        "\tvar X, Y int\n",
        "\n",
        "\tfmt.Println(\"Digite dois números, X e Y:\")\n",
        "\tfmt.Scanln(&X, &Y)\n",
        "\n",
        "\tif X%2 == 0 {\n",
        "\t\tfor i := 0; i < Y; i++ {\n",
        "\t\t\tfmt.Println(\"\\n\",X)\n",
        "\t\t\tX += 2\n",
        "\t\t}\n",
        "\t} else {\n",
        "\t\tfmt.Println(\"O PRIMEIRO NUMERO NAO E PAR\")\n",
        "\t}\n",
        "}"
      ],
      "metadata": {
        "id": "-6TBSlwBsFul"
      }
    },
    {
      "cell_type": "markdown",
      "source": [
        "Questão 18-\n",
        "\n",
        "package main\n",
        "\n",
        "import \"fmt\"\n",
        "\n",
        "func main() {\n",
        "\tvar A1, R, N, SOMA, x int\n",
        "\n",
        "\tfmt.Println(\"Digite o valor do primeiro termo (A1):\")\n",
        "\tfmt.Scanln(&A1)\n",
        "\tfmt.Println(\"Digite o valor da razão (R):\")\n",
        "\tfmt.Scanln(&R)\n",
        "\tfmt.Println(\"Digite a quantidade de termos (N):\")\n",
        "\tfmt.Scanln(&N)\n",
        "\n",
        "\tSOMA = 0\n",
        "\tx = 1\n",
        "\n",
        "\tfor x <= N {\n",
        "\t\tSOMA += A1 + (x-1)*R\n",
        "\t\tx++\n",
        "\t}\n",
        "\n",
        "\tfmt.Println(\"A soma dos termos é:\", SOMA)\n",
        "}"
      ],
      "metadata": {
        "id": "VDMm8RlqsVrk"
      }
    },
    {
      "cell_type": "markdown",
      "source": [
        "Questão 19-\n",
        "\n",
        "package main\n",
        "\n",
        "import \"fmt\"\n",
        "\n",
        "func main() {\n",
        "\tvar N, SOMA, x float64\n",
        "\n",
        "\tfmt.Println(\"Digite um número N:\")\n",
        "\tfmt.Scanln(&N)\n",
        "\n",
        "\tSOMA = 0\n",
        "\tx = 1\n",
        "\n",
        "\tif N > 1 {\n",
        "\t\tfor x <= N {\n",
        "\t\t\tSOMA += 1 / x\n",
        "\t\t\tx++\n",
        "\t\t}\n",
        "\t}\n",
        "\n",
        "\tfmt.Printf(\"A soma é: %.6f\", SOMA)\n",
        "}"
      ],
      "metadata": {
        "id": "Mmwpc0_stvph"
      }
    },
    {
      "cell_type": "markdown",
      "source": [
        "Questão 20-\n",
        "\n",
        "package main\n",
        "\n",
        "import \"fmt\"\n",
        "\n",
        "func main() {\n",
        "\tvar HR, MIN, SEG, TOTAL int\n",
        "\n",
        "\tfmt.Println(\"Digite o valor das horas, minutos e segundos separadamente:\")\n",
        "\tfmt.Scanln(&HR, &MIN, &SEG)\n",
        "\n",
        "\tTOTAL = HR*3600 + MIN*60 + SEG\n",
        "\n",
        "\tfmt.Println(\"O TEMPO EM SEGUNDOS E =\", TOTAL)\n",
        "}"
      ],
      "metadata": {
        "id": "gNP-qjqfuaNt"
      }
    }
  ]
}