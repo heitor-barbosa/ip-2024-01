{
  "nbformat": 4,
  "nbformat_minor": 0,
  "metadata": {
    "colab": {
      "provenance": [],
      "authorship_tag": "ABX9TyNTw+MENpB4G71ZM4Jc9iqY",
      "include_colab_link": true
    },
    "kernelspec": {
      "name": "python3",
      "display_name": "Python 3"
    },
    "language_info": {
      "name": "python"
    }
  },
  "cells": [
    {
      "cell_type": "markdown",
      "metadata": {
        "id": "view-in-github",
        "colab_type": "text"
      },
      "source": [
        "<a href=\"https://colab.research.google.com/github/heitor-barbosa/ip-2024-01/blob/main/Insertion_sort.ipynb\" target=\"_parent\"><img src=\"https://colab.research.google.com/assets/colab-badge.svg\" alt=\"Open In Colab\"/></a>"
      ]
    },
    {
      "cell_type": "markdown",
      "source": [
        "O algoritmo insertion sort é uma forma simples e direta de se ordenar uma lista de valores em uma array. A lista de números é ordenada elemento por elemento, inserindo cada novo elemento em sua posição correta baseada nos elementos já ordenados.\n",
        "\n",
        "Passo a passo do insertion sort:                                              \n",
        "1- Início com o Segundo Elemento:\n",
        "O algoritmo começa com o segundo elemento da lista (porque um único elemento já é considerado ordenado).\n",
        "\n",
        "2- Selecionar o Elemento Atual (Chave):\n",
        "O elemento atual a ser inserido na parte ordenada da lista é chamado de \"chave\".\n",
        "\n",
        "3- Comparação e Deslocamento:\n",
        "A chave é comparada com os elementos da sublista ordenada à sua esquerda.\n",
        "Os elementos que são maiores que a chave são deslocados uma posição para a\n",
        "direita para abrir espaço para a chave.\n",
        "\n",
        "4- Inserção da Chave:\n",
        "A chave é então inserida na posição correta dentro da sublista ordenada.\n",
        "\n",
        "5- Repetição:\n",
        "Este processo é repetido para cada elemento da lista até que toda a lista esteja ordenada.\n",
        "\n",
        "Complexidade:\n",
        "\n",
        "Melhor caso: O(n) – Ocorre quando a lista já está ordenada.                    \n",
        "Pior caso: O(n²) – Ocorre quando a lista está ordenada em ordem reversa.        \n",
        "Caso médio: O(n²) – Em listas com elementos dispostos aleatoriamente.           "
      ],
      "metadata": {
        "id": "9_pKejAOBh8w"
      }
    },
    {
      "cell_type": "code",
      "execution_count": null,
      "metadata": {
        "id": "8GZWnlCxBhQP"
      },
      "outputs": [],
      "source": [
        "package main\n",
        "\n",
        "import \"fmt\"\n",
        "\n",
        "// Função que implementa o Insertion Sort\n",
        "func insertionSort(arr []int) {\n",
        "    n := len(arr)\n",
        "    for i := 1; i < n; i++ {\n",
        "        key := arr[i]\n",
        "        j := i - 1\n",
        "\n",
        "        // Move os elementos de arr[0..i-1], que são maiores que a chave,\n",
        "        // uma posição à frente de sua posição atual\n",
        "        for j >= 0 && arr[j] > key {\n",
        "            arr[j+1] = arr[j]\n",
        "            j = j - 1\n",
        "        }\n",
        "        arr[j+1] = key\n",
        "    }\n",
        "}\n",
        "\n",
        "func main() {\n",
        "\n",
        "    var tamanho int\n",
        "    fmt.Println(\"Digite o tamanho do vetor: \")\n",
        "    fmt.Scan(&tamanho)\n",
        "\n",
        "    arr := make([]int, tamanho)\n",
        "\n",
        "    fmt.Println(\"Digite os elementos do vetor:\")\n",
        "    for i := 0; i < len(arr); i++ {\n",
        "    fmt.Scan(&arr[i])\n",
        "    }\n",
        "\n",
        "    insertionSort(arr)\n",
        "\n",
        "    fmt.Println(\"Vetor ordenado:\", arr)\n",
        "}"
      ]
    }
  ]
}