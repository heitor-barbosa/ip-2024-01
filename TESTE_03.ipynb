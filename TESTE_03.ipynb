{
  "nbformat": 4,
  "nbformat_minor": 0,
  "metadata": {
    "colab": {
      "provenance": [],
      "authorship_tag": "ABX9TyNp6p0ybPhbejSK1resBGOp",
      "include_colab_link": true
    },
    "kernelspec": {
      "name": "python3",
      "display_name": "Python 3"
    },
    "language_info": {
      "name": "python"
    }
  },
  "cells": [
    {
      "cell_type": "markdown",
      "metadata": {
        "id": "view-in-github",
        "colab_type": "text"
      },
      "source": [
        "<a href=\"https://colab.research.google.com/github/heitor-barbosa/ip-2024-01/blob/main/TESTE_03.ipynb\" target=\"_parent\"><img src=\"https://colab.research.google.com/assets/colab-badge.svg\" alt=\"Open In Colab\"/></a>"
      ]
    },
    {
      "cell_type": "code",
      "execution_count": null,
      "metadata": {
        "id": "XtF46SnDLPtQ"
      },
      "outputs": [],
      "source": []
    },
    {
      "cell_type": "markdown",
      "source": [
        "QESTÃO 1"
      ],
      "metadata": {
        "id": "9e81JryjPH9P"
      }
    },
    {
      "cell_type": "code",
      "source": [
        "package main\n",
        "\n",
        "import (\n",
        "    \"fmt\"\n",
        "    \"bufio\"\n",
        "    \"os\"\n",
        ")\n",
        "\n",
        "func main() {\n",
        "\n",
        "    var texto string\n",
        "    scanner := bufio.NewScanner(os.Stdin)\n",
        "\n",
        "    for scanner.Scan() {\n",
        "\n",
        "\t\ttexto = scanner.Text()\n",
        "\n",
        "\t\tif texto == \"#\" {\n",
        "\t\t    return\n",
        "\t\t}\n",
        "\n",
        "\t\tfor i := (len(texto)-1); i >= 0; i--{\n",
        "\t\t    fmt.Print(string(texto[i]))\n",
        "\t\t}\n",
        "\n",
        "\t\tfmt.Printf(\"\\n\\n\")\n",
        "\t}\n",
        "}"
      ],
      "metadata": {
        "id": "-ntSJFaPPMKW"
      },
      "execution_count": null,
      "outputs": []
    },
    {
      "cell_type": "markdown",
      "source": [
        "QESTÃO 2"
      ],
      "metadata": {
        "id": "F00q0tZcT5_C"
      }
    },
    {
      "cell_type": "code",
      "source": [
        "package main\n",
        "\n",
        "import \"fmt\"\n",
        "\n",
        "func main() {\n",
        "\tvar casos int\n",
        "\tfmt.Scan(&casos)\n",
        "\n",
        "\tfor i := 1; i <= casos; i++ {\n",
        "\t\tvar tamanho int\n",
        "\t\tfmt.Scan(&tamanho)\n",
        "\n",
        "\t\tvetor := make([]int, tamanho)\n",
        "\n",
        "\t\tfor i := 0; i < tamanho; i++ {\n",
        "\t\t\tfmt.Scan(&vetor[i])\n",
        "\t\t}\n",
        "\n",
        "\t\ttrocaOpostosSeMenor(vetor)\n",
        "\n",
        "\t\tfor i := 0; i < tamanho; i++ {\n",
        "\t\t\tfmt.Print(vetor[i])\n",
        "\t\t\tif i < tamanho-1 {\n",
        "\t\t\t\tfmt.Print(\" \")\n",
        "\t\t\t}\n",
        "\t\t}\n",
        "\t\tfmt.Println()\n",
        "\t}\n",
        "}\n",
        "\n",
        "func troca(a []int, x, y int) {\n",
        "\ta[x], a[y] = a[y], a[x]\n",
        "}\n",
        "\n",
        "func trocaOpostosSeMenor(a []int) {\n",
        "\tn := len(a)\n",
        "\tfor x := 0; x < n/2; x++ {\n",
        "\t\ty := n - 1 - x\n",
        "\t\tif x < y && a[x] > a[y] {\n",
        "\t\t\ttroca(a, x, y)\n",
        "\t\t}\n",
        "\t}\n",
        "}"
      ],
      "metadata": {
        "id": "g5NXH6KVT8JN"
      },
      "execution_count": null,
      "outputs": []
    },
    {
      "cell_type": "markdown",
      "source": [
        "QUESTÃO 3"
      ],
      "metadata": {
        "id": "ns5ffAGHLZVY"
      }
    },
    {
      "cell_type": "code",
      "source": [
        "package main\n",
        "\n",
        "import \"fmt\"\n",
        "\n",
        "func main() {\n",
        "    var tamanho int\n",
        "    fmt.Println(\"Digite o tamanho do vetor:\")\n",
        "    fmt.Scanln(&tamanho)\n",
        "\n",
        "    vetor := make([]int, tamanho)\n",
        "\n",
        "    fmt.Println(\"Digite os elementos do vetor:\")\n",
        "    for i := 0; i < len(vetor); i++ {\n",
        "        fmt.Scan(&vetor[i])\n",
        "    }\n",
        "\n",
        "    fmt.Println(bubbleSort(vetor))\n",
        "}\n",
        "\n",
        "func bubbleSort (a []int)[]int {\n",
        "    desordem := true\n",
        "    for desordem {\n",
        "        desordem = false\n",
        "        for i := 1; i < len(a); i++ {\n",
        "            if a[i] < a[i-1] {\n",
        "                a[i], a[i-1] = a[i-1], a[i]\n",
        "                desordem = true\n",
        "            }\n",
        "        }\n",
        "    }\n",
        "    return a\n",
        "}"
      ],
      "metadata": {
        "id": "jGtD9sJlLcXJ"
      },
      "execution_count": null,
      "outputs": []
    }
  ]
}